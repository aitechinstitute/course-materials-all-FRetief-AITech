{
 "cells": [
  {
   "cell_type": "markdown",
   "id": "ac1c4f8c",
   "metadata": {},
   "source": [
    "# Week 00 Deep Dive — Collections"
   ]
  },
  {
   "cell_type": "markdown",
   "id": "1084d588",
   "metadata": {},
   "source": [
    "Lists, tuples, sets, dicts — plus nested patterns."
   ]
  },
  {
   "cell_type": "markdown",
   "id": "aa519eb9",
   "metadata": {},
   "source": [
    "## 1. Lists & list-comprehensions"
   ]
  },
  {
   "cell_type": "code",
   "execution_count": null,
   "id": "89b1f1ce",
   "metadata": {},
   "outputs": [],
   "source": [
    "nums=[3,1,2]; nums.append(5); nums.sort(); sq=[n*n for n in nums]; print(nums, sq)"
   ]
  },
  {
   "cell_type": "markdown",
   "id": "0e352859",
   "metadata": {},
   "source": [
    "### Exercise F1 — Unique sorted (easy)\n",
    "Remove duplicates and sort."
   ]
  },
  {
   "cell_type": "code",
   "execution_count": 8,
   "id": "1e202856",
   "metadata": {},
   "outputs": [
    {
     "name": "stdout",
     "output_type": "stream",
     "text": [
      "['A', 'B', 'C', 'D', 'F', 'G']\n"
     ]
    }
   ],
   "source": [
    "# Your turn\n",
    "list1 = [ 'B', 'F', 'A', 'D','B', 'F', 'C', 'G' ]\n",
    "list2 = sorted( set( list1 ) ) # set1 = set( sorted(list1) ) doesn't work because turning the sorted list into a set destroys the sort order\n",
    "print( list2 )"
   ]
  },
  {
   "cell_type": "markdown",
   "id": "aabc84fb",
   "metadata": {},
   "source": [
    "<details>\n",
    "<summary><b>Solution</b></summary>\n",
    "\n",
    "```python\n",
    "data=[3,1,2,3,2,1]\n",
    "unique=sorted(set(data))\n",
    "print(unique)\n",
    "```\n",
    "</details>"
   ]
  },
  {
   "cell_type": "markdown",
   "id": "1f7888ff",
   "metadata": {},
   "source": [
    "## 2. Dicts & lookups"
   ]
  },
  {
   "cell_type": "code",
   "execution_count": null,
   "id": "194077f0",
   "metadata": {},
   "outputs": [],
   "source": [
    "prices={\"apple\":2.5,\"choc\":3.0}; print(prices.get(\"apple\"), prices.get(\"soda\", 0.0))"
   ]
  },
  {
   "cell_type": "markdown",
   "id": "b27afb89",
   "metadata": {},
   "source": [
    "### Exercise F2 — Frequency map (medium)\n",
    "Count character frequencies in a string."
   ]
  },
  {
   "cell_type": "code",
   "execution_count": 10,
   "id": "e7c1a3cb",
   "metadata": {},
   "outputs": [
    {
     "name": "stdout",
     "output_type": "stream",
     "text": [
      "{'T': 1, 'h': 3, 'i': 5, 's': 10, ' ': 12, 'a': 2, 'u': 2, 'e': 10, 'l': 3, 't': 4, 'r': 5, 'n': 1, 'g': 1, 'c': 3, 'd': 1, 'o': 4, 'y': 1, 'f': 2, 'p': 2, 'x': 1}\n"
     ]
    }
   ],
   "source": [
    "# Your turn\n",
    "string = \"This is a useless string created solely for the purpose of this excercise\"\n",
    "freq_map = {}\n",
    "for letter in string:\n",
    "    try:\n",
    "        freq_map[letter] = freq_map[letter] + 1\n",
    "    except:\n",
    "        freq_map[letter] = 1\n",
    "print( freq_map )"
   ]
  },
  {
   "cell_type": "markdown",
   "id": "76bd56d6",
   "metadata": {},
   "source": [
    "<details>\n",
    "<summary><b>Solution</b></summary>\n",
    "\n",
    "```python\n",
    "s=\"banana\"\n",
    "freq={}\n",
    "for ch in s:\n",
    "    freq[ch]=freq.get(ch,0)+1\n",
    "print(freq)\n",
    "```\n",
    "</details>"
   ]
  },
  {
   "cell_type": "markdown",
   "id": "13cd5712",
   "metadata": {},
   "source": [
    "### Exercise F3 — Nested structures (hard)\n",
    "Create a class roster as list-of-dicts and compute average age."
   ]
  },
  {
   "cell_type": "code",
   "execution_count": 16,
   "id": "173a7941",
   "metadata": {},
   "outputs": [
    {
     "name": "stdout",
     "output_type": "stream",
     "text": [
      "21.0\n"
     ]
    }
   ],
   "source": [
    "# Your turn\n",
    "roster = {\n",
    "    'Student1': {'name': 'Alice',   'age': 20},\n",
    "    'Student2': {'name': 'Bob',     'age': 22},\n",
    "    'Student3': {'name': 'Charlie', 'age': 21}\n",
    "} \n",
    "\n",
    "n = 0\n",
    "sum = 0\n",
    "\n",
    "for student_key, student_info in roster.items(): # This unpacks the first level of the roster dictionary; student_info is a tuple e.g. ('name': 'Charlie', 'age': 21)\n",
    "    sum = sum + roster[student_key]['age']\n",
    "    n = n + 1\n",
    "\n",
    "print( sum / n )"
   ]
  },
  {
   "cell_type": "markdown",
   "id": "042a381f",
   "metadata": {},
   "source": [
    "<details>\n",
    "<summary><b>Solution</b></summary>\n",
    "\n",
    "```python\n",
    "students=[{\"name\":\"Ali\",\"age\":22},{\"name\":\"Sara\",\"age\":24}]\n",
    "avg=sum(s[\"age\"] for s in students)/len(students)\n",
    "print(round(avg,2))\n",
    "```\n",
    "</details>"
   ]
  }
 ],
 "metadata": {
  "kernelspec": {
   "display_name": "Python 3 (ipykernel)",
   "language": "python",
   "name": "python3"
  },
  "language_info": {
   "codemirror_mode": {
    "name": "ipython",
    "version": 3
   },
   "file_extension": ".py",
   "mimetype": "text/x-python",
   "name": "python",
   "nbconvert_exporter": "python",
   "pygments_lexer": "ipython3",
   "version": "3.12.7"
  },
  "toc": {
   "base_numbering": 1,
   "nav_menu": {},
   "number_sections": false,
   "sideBar": true,
   "skip_h1_title": false,
   "title_cell": "Table of Contents",
   "title_sidebar": "Contents",
   "toc_cell": false,
   "toc_position": {},
   "toc_section_display": true,
   "toc_window_display": true
  }
 },
 "nbformat": 4,
 "nbformat_minor": 5
}
