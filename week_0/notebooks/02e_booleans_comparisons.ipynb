{
 "cells": [
  {
   "cell_type": "markdown",
   "id": "416387dd",
   "metadata": {},
   "source": [
    "# Week 00 Deep Dive — Booleans & Comparisons"
   ]
  },
  {
   "cell_type": "markdown",
   "id": "c7e2b54a",
   "metadata": {},
   "source": [
    "Truthiness, logical operators, and common guard clauses."
   ]
  },
  {
   "cell_type": "markdown",
   "id": "477c4e5c",
   "metadata": {},
   "source": [
    "## 1. Truthiness"
   ]
  },
  {
   "cell_type": "code",
   "execution_count": null,
   "id": "58ecd923",
   "metadata": {},
   "outputs": [],
   "source": [
    "for v in [0,1,[],[1], \"\", \"hi\", None]:\n",
    "    if v:\n",
    "        print(v, \"is truthy\")\n",
    "    else:\n",
    "        print(v, \"is falsy\")"
   ]
  },
  {
   "cell_type": "markdown",
   "id": "3cf7f6c7",
   "metadata": {},
   "source": [
    "### Exercise E1 — Gatekeeper (easy)\n",
    "If password is `'opensesame'` print ✅ else ❌"
   ]
  },
  {
   "cell_type": "code",
   "execution_count": 2,
   "id": "c9465d94",
   "metadata": {},
   "outputs": [
    {
     "name": "stdin",
     "output_type": "stream",
     "text": [
      "Enter the password: opensesame\n"
     ]
    },
    {
     "name": "stdout",
     "output_type": "stream",
     "text": [
      "✅\n"
     ]
    }
   ],
   "source": [
    "# Your turn\n",
    "pwd = input( \"Enter the password:\" )\n",
    "if pwd == \"opensesame\": print(\"✅\")\n",
    "else:                   print(\"❌\")"
   ]
  },
  {
   "cell_type": "markdown",
   "id": "1add8661",
   "metadata": {},
   "source": [
    "<details>\n",
    "<summary><b>Solution</b></summary>\n",
    "\n",
    "```python\n",
    "pwd=\"opensesame\"\n",
    "print(\"✅\" if pwd==\"opensesame\" else \"❌\")\n",
    "```\n",
    "</details>"
   ]
  },
  {
   "cell_type": "markdown",
   "id": "eec8c3de",
   "metadata": {},
   "source": [
    "### Exercise E2 — Range check (medium)\n",
    "Ask for a score 0..100, classify A/B/C/D/F."
   ]
  },
  {
   "cell_type": "code",
   "execution_count": 15,
   "id": "e07cbd9f",
   "metadata": {},
   "outputs": [
    {
     "name": "stdin",
     "output_type": "stream",
     "text": [
      "Enter the score between 0 and 100 17\n"
     ]
    },
    {
     "name": "stdout",
     "output_type": "stream",
     "text": [
      "B\n"
     ]
    }
   ],
   "source": [
    "# Your turn\n",
    "score = float( input( \"Enter the score between 0 and 100:\" ) )\n",
    "if score < 0 or score > 100: print( \"Read the instruction, this is not a score between 0 and 100\" )\n",
    "else:\n",
    "    n = int( score / (100/6) )\n",
    "    cat = ('A', 'B', 'C', 'D', 'E', 'F')[n]\n",
    "    print( cat )"
   ]
  },
  {
   "cell_type": "markdown",
   "id": "a5a95f85",
   "metadata": {},
   "source": [
    "<details>\n",
    "<summary><b>Solution</b></summary>\n",
    "\n",
    "```python\n",
    "score=87\n",
    "if score>=85: g=\"A\"\n",
    "elif score>=75: g=\"B\"\n",
    "elif score>=65: g=\"C\"\n",
    "elif score>=50: g=\"D\"\n",
    "else: g=\"F\"\n",
    "print(g)\n",
    "```\n",
    "</details>"
   ]
  },
  {
   "cell_type": "markdown",
   "id": "f19e3bb5",
   "metadata": {},
   "source": [
    "### Exercise E3 — Complex condition (hard)\n",
    "Given `age`, `has_id`, `with_parent`, determine if entry allowed."
   ]
  },
  {
   "cell_type": "code",
   "execution_count": 1,
   "id": "e4b0860c",
   "metadata": {},
   "outputs": [
    {
     "name": "stdin",
     "output_type": "stream",
     "text": [
      "Age? 15\n",
      "Has id? (Yes/No) yes\n",
      "With parent? (Yes/No) no\n"
     ]
    },
    {
     "name": "stdout",
     "output_type": "stream",
     "text": [
      "Welcome!\n"
     ]
    }
   ],
   "source": [
    "# Your turn\n",
    "age = float( input( \"Age?\" ) )\n",
    "has_id = input( \"Has id? (Yes/No)\" ).lower()\n",
    "with_parent = input( \"With parent? (Yes/No)\" ).lower()\n",
    "\n",
    "if has_id == 'yes' and ( age >= 14 or with_parent == 'yes' ):\n",
    "    print( \"Welcome!\" )\n",
    "else:\n",
    "    print( \"No entry\" )"
   ]
  },
  {
   "cell_type": "markdown",
   "id": "5d4cd759",
   "metadata": {},
   "source": [
    "<details>\n",
    "<summary><b>Solution</b></summary>\n",
    "\n",
    "```python\n",
    "age=16; has_id=False; with_parent=True\n",
    "allowed = (age>=18 and has_id) or (with_parent and age>=15)\n",
    "print(allowed)\n",
    "```\n",
    "</details>"
   ]
  }
 ],
 "metadata": {
  "kernelspec": {
   "display_name": "Python 3 (ipykernel)",
   "language": "python",
   "name": "python3"
  },
  "language_info": {
   "codemirror_mode": {
    "name": "ipython",
    "version": 3
   },
   "file_extension": ".py",
   "mimetype": "text/x-python",
   "name": "python",
   "nbconvert_exporter": "python",
   "pygments_lexer": "ipython3",
   "version": "3.12.7"
  },
  "toc": {
   "base_numbering": 1,
   "nav_menu": {},
   "number_sections": false,
   "sideBar": true,
   "skip_h1_title": false,
   "title_cell": "Table of Contents",
   "title_sidebar": "Contents",
   "toc_cell": false,
   "toc_position": {},
   "toc_section_display": true,
   "toc_window_display": true
  }
 },
 "nbformat": 4,
 "nbformat_minor": 5
}
