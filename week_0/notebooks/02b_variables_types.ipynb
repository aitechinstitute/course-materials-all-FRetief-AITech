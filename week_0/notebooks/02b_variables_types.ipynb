{
 "cells": [
  {
   "cell_type": "markdown",
   "id": "72b01e30",
   "metadata": {},
   "source": [
    "# Week 00 Deep Dive — Variables & Basic Types"
   ]
  },
  {
   "cell_type": "markdown",
   "id": "498c29a2",
   "metadata": {},
   "source": [
    "Understand naming, assignment, mutability, and type conversion."
   ]
  },
  {
   "cell_type": "markdown",
   "id": "21a19776",
   "metadata": {},
   "source": [
    "## 1. Naming & assignment"
   ]
  },
  {
   "cell_type": "code",
   "execution_count": null,
   "id": "9df22377",
   "metadata": {},
   "outputs": [],
   "source": [
    "user_name = \"Amir\"; age = 32; pi = 3.14159; enrolled = True\n",
    "print(user_name, age, pi, enrolled)"
   ]
  },
  {
   "cell_type": "markdown",
   "id": "3401d1a8",
   "metadata": {},
   "source": [
    "### Exercise B1 — Bio line (easy)\n",
    "Create 4 variables (name, age, height_m, enrolled) and print one sentence."
   ]
  },
  {
   "cell_type": "code",
   "execution_count": 1,
   "id": "8f0ecb72",
   "metadata": {},
   "outputs": [
    {
     "name": "stdout",
     "output_type": "stream",
     "text": [
      "Francois | 56 years | 1.74 m | enrolled\n"
     ]
    }
   ],
   "source": [
    "# Your turn\n",
    "name = \"Francois\"\n",
    "age = 56\n",
    "height_m = 1.74\n",
    "enrolled = True\n",
    "\n",
    "print(f\"{name} | {age} years | {height_m} m | enrolled\")"
   ]
  },
  {
   "cell_type": "markdown",
   "id": "4ff8b4d0",
   "metadata": {},
   "source": [
    "<details>\n",
    "<summary><b>Solution</b></summary>\n",
    "\n",
    "```python\n",
    "name=\"Amir\"; age=32; height=1.78; enrolled=True\n",
    "print(f\"{name} | {age} | {height}m | enrolled={enrolled}\")\n",
    "```\n",
    "</details>"
   ]
  },
  {
   "cell_type": "markdown",
   "id": "7707849e",
   "metadata": {},
   "source": [
    "## 2. Type checks & casting"
   ]
  },
  {
   "cell_type": "code",
   "execution_count": null,
   "id": "2cf92af5",
   "metadata": {},
   "outputs": [],
   "source": [
    "x=\"3\"; print(type(x)); x=int(x); print(type(x), x+1)"
   ]
  },
  {
   "cell_type": "markdown",
   "id": "230f5d5d",
   "metadata": {},
   "source": [
    "### Exercise B2 — Robust cast (medium)\n",
    "Given `values=['3','5.2','hi','7']`, convert **only** numeric strings to floats; skip others."
   ]
  },
  {
   "cell_type": "code",
   "execution_count": 3,
   "id": "a4b186a3",
   "metadata": {},
   "outputs": [
    {
     "name": "stdout",
     "output_type": "stream",
     "text": [
      "[3.0, 5.2, 'hi', 7.0]\n"
     ]
    }
   ],
   "source": [
    "# Your turn\n",
    "new_list = []\n",
    "for item in ['3','5.2','hi','7']:\n",
    "    try:\n",
    "        new_item = float( item )\n",
    "    except:\n",
    "        new_item = item\n",
    "    new_list.append( new_item )\n",
    "print(new_list)"
   ]
  },
  {
   "cell_type": "markdown",
   "id": "d05d06cb",
   "metadata": {},
   "source": [
    "<details>\n",
    "<summary><b>Solution</b></summary>\n",
    "\n",
    "```python\n",
    "values=['3','5.2','hi','7']\n",
    "nums=[]\n",
    "for v in values:\n",
    "    try:\n",
    "        nums.append(float(v))\n",
    "    except ValueError:\n",
    "        pass\n",
    "print(nums)\n",
    "```\n",
    "</details>"
   ]
  },
  {
   "cell_type": "markdown",
   "id": "b7915e8e",
   "metadata": {},
   "source": [
    "## 3. Immutability vs mutability (concept)"
   ]
  },
  {
   "cell_type": "code",
   "execution_count": null,
   "id": "bc893ab5",
   "metadata": {},
   "outputs": [],
   "source": [
    "a = 10\n",
    "b = a\n",
    "a = 11\n",
    "print(\"ints:\", a, b)\n",
    "L = [1,2]\n",
    "M = L\n",
    "L.append(3)\n",
    "print(\"lists:\", L, M)"
   ]
  },
  {
   "cell_type": "markdown",
   "id": "60aa67e3",
   "metadata": {},
   "source": [
    "### Exercise B3 — Swap (easy)\n",
    "Swap two variables using tuple unpacking."
   ]
  },
  {
   "cell_type": "code",
   "execution_count": 4,
   "id": "a4629edc",
   "metadata": {},
   "outputs": [
    {
     "name": "stdout",
     "output_type": "stream",
     "text": [
      "('Item B', 'Item A')\n"
     ]
    }
   ],
   "source": [
    "# Your turn\n",
    "original_tuple = ( \"Item A\", \"Item B\" )\n",
    "X, Y = original_tuple\n",
    "new_tuple = ( Y, X )\n",
    "print( new_tuple )"
   ]
  },
  {
   "cell_type": "markdown",
   "id": "d165fb6f",
   "metadata": {},
   "source": [
    "<details>\n",
    "<summary><b>Solution</b></summary>\n",
    "\n",
    "```python\n",
    "a,b=1,2\n",
    "a,b=b,a\n",
    "print(a,b)\n",
    "```\n",
    "</details>"
   ]
  }
 ],
 "metadata": {
  "kernelspec": {
   "display_name": "Python 3 (ipykernel)",
   "language": "python",
   "name": "python3"
  },
  "language_info": {
   "codemirror_mode": {
    "name": "ipython",
    "version": 3
   },
   "file_extension": ".py",
   "mimetype": "text/x-python",
   "name": "python",
   "nbconvert_exporter": "python",
   "pygments_lexer": "ipython3",
   "version": "3.12.7"
  },
  "toc": {
   "base_numbering": 1,
   "nav_menu": {},
   "number_sections": false,
   "sideBar": true,
   "skip_h1_title": false,
   "title_cell": "Table of Contents",
   "title_sidebar": "Contents",
   "toc_cell": false,
   "toc_position": {},
   "toc_section_display": true,
   "toc_window_display": true
  }
 },
 "nbformat": 4,
 "nbformat_minor": 5
}
