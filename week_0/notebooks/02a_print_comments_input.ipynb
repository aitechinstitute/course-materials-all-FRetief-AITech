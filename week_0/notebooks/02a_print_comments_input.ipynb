{
 "cells": [
  {
   "cell_type": "markdown",
   "id": "8c4d4790",
   "metadata": {},
   "source": [
    "# AI TECH INSTITUTE · Week 00 Deep Dive — Print, Comments, and input()"
   ]
  },
  {
   "cell_type": "markdown",
   "id": "7840780f",
   "metadata": {},
   "source": [
    "Master the fundamentals of console I/O and communication with your future self."
   ]
  },
  {
   "cell_type": "markdown",
   "id": "4629b455",
   "metadata": {},
   "source": [
    "## 1. print() essentials"
   ]
  },
  {
   "cell_type": "code",
   "execution_count": null,
   "id": "bcfc68a4",
   "metadata": {},
   "outputs": [],
   "source": [
    "print(\"AI\", \"Tech\", \"Institute\", sep=\" · \", end=\" 🚀\\n\")"
   ]
  },
  {
   "cell_type": "markdown",
   "id": "f6c2dbe0",
   "metadata": {},
   "source": [
    "### Exercise A1 — Echo 3 ways (easy)\n",
    "Print your name using: (1) simple print, (2) f-string, (3) string concatenation."
   ]
  },
  {
   "cell_type": "code",
   "execution_count": 4,
   "id": "3888946c",
   "metadata": {},
   "outputs": [
    {
     "name": "stdout",
     "output_type": "stream",
     "text": [
      "Simple Print: Francois Retief\n",
      "Using f-string: Francois Retief\n",
      "Using string concatenation: Francois Retief\n"
     ]
    }
   ],
   "source": [
    "# Your turn\n",
    "print(\"Simple Print: Francois Retief\")\n",
    "name = \"Francois\"\n",
    "surname =\"Retief\"\n",
    "name_surname = name + \" \" + surname \n",
    "print(f\"Using f-string: {name_surname}\")\n",
    "print(\"Using string concatenation: \" + name_surname)"
   ]
  },
  {
   "cell_type": "markdown",
   "id": "508367a4",
   "metadata": {},
   "source": [
    "<details>\n",
    "<summary><b>Solution</b></summary>\n",
    "\n",
    "```python\n",
    "name=\"Amir\"\n",
    "print(name)\n",
    "print(f\"My name is {name}\")\n",
    "print(\"My name is \" + name)\n",
    "```\n",
    "</details>"
   ]
  },
  {
   "cell_type": "markdown",
   "id": "46703d59",
   "metadata": {},
   "source": [
    "## 2. Comments & docstrings"
   ]
  },
  {
   "cell_type": "code",
   "execution_count": null,
   "id": "bae151b0",
   "metadata": {},
   "outputs": [],
   "source": [
    "# Single-line comment\n",
    "\"\"\" Module or block docstring explaining purpose. \"\"\"\n",
    "print(\"Ready\")"
   ]
  },
  {
   "cell_type": "markdown",
   "id": "413471dd",
   "metadata": {},
   "source": [
    "### Exercise A2 — Annotate (easy)\n",
    "Add comments explaining each line of a short script that computes area of a circle."
   ]
  },
  {
   "cell_type": "code",
   "execution_count": 11,
   "id": "6d071089",
   "metadata": {},
   "outputs": [
    {
     "name": "stdin",
     "output_type": "stream",
     "text": [
      "Enter the radius  3\n"
     ]
    },
    {
     "name": "stdout",
     "output_type": "stream",
     "text": [
      "The area is  28.27\n"
     ]
    }
   ],
   "source": [
    "# Your turn\n",
    "radius = float( input(\"Enter the radius \") )  # Asks for the radius to be entered and converts the string to a floating number (no error checking)\n",
    "area = 3.14159 * radius**2                    # Calculates the area of the circle\n",
    "print(f\"The area is  {area:.2f}\")             # Prints the area to two desimal points\n"
   ]
  },
  {
   "cell_type": "markdown",
   "id": "6976b962",
   "metadata": {},
   "source": [
    "<details>\n",
    "<summary><b>Solution</b></summary>\n",
    "\n",
    "```python\n",
    "# radius input\n",
    "r = 3\n",
    "# compute area\n",
    "area = 3.14159 * (r**2)\n",
    "# show result\n",
    "print(area)\n",
    "```\n",
    "</details>"
   ]
  },
  {
   "cell_type": "markdown",
   "id": "9b13044d",
   "metadata": {},
   "source": [
    "## 3. input(): getting data\n",
    "input() returns **str** — convert to number when needed."
   ]
  },
  {
   "cell_type": "code",
   "execution_count": null,
   "id": "2ba2b0a7",
   "metadata": {},
   "outputs": [],
   "source": [
    "# age_str = input(\"Age: \")\\nage = 28  # int(age_str)\\nprint(\"Next year:\", age+1)"
   ]
  },
  {
   "cell_type": "markdown",
   "id": "c6640fe4",
   "metadata": {},
   "source": [
    "### Exercise A3 — Greeter+ (easy)\n",
    "Ask for name and favorite language, print a nice sentence."
   ]
  },
  {
   "cell_type": "code",
   "execution_count": 13,
   "id": "c4c86115",
   "metadata": {},
   "outputs": [
    {
     "name": "stdin",
     "output_type": "stream",
     "text": [
      "Enter your name: Francois\n",
      "Enter your fafourite language: Russian\n"
     ]
    },
    {
     "name": "stdout",
     "output_type": "stream",
     "text": [
      "Francois, Russian has an interesting history\n"
     ]
    }
   ],
   "source": [
    "# Your turn\n",
    "name = input(\"Enter your name:\")\n",
    "language = input(\"Enter your fafourite language:\")\n",
    "print(f\"{name}, {language} has an interesting history\")"
   ]
  },
  {
   "cell_type": "markdown",
   "id": "2ff3fc3b",
   "metadata": {},
   "source": [
    "<details>\n",
    "<summary><b>Solution</b></summary>\n",
    "\n",
    "```python\n",
    "name = \"Alex\"\n",
    "lang = \"Python\"\n",
    "print(f\"Nice to meet you, {name}. {lang} is awesome!\")\n",
    "```\n",
    "</details>"
   ]
  },
  {
   "cell_type": "markdown",
   "id": "281c4464",
   "metadata": {},
   "source": [
    "### Exercise A4 — Unit converter (medium)\n",
    "Ask for kilometers (float), convert to miles, round to 2 dp."
   ]
  },
  {
   "cell_type": "code",
   "execution_count": 17,
   "id": "9f3b5382",
   "metadata": {},
   "outputs": [
    {
     "name": "stdin",
     "output_type": "stream",
     "text": [
      "Enter a floating point value in kilometres: 3.4567\n"
     ]
    },
    {
     "name": "stdout",
     "output_type": "stream",
     "text": [
      "3.4567 km = 2.15 mi\n"
     ]
    }
   ],
   "source": [
    "# Your turn\n",
    "input_km = float( input( \"Enter a floating point value in kilometres:\" ) )\n",
    "output_mi = round( input_km * 0.621, 2 )\n",
    "print( f\"{input_km} km = {output_mi} mi\" )"
   ]
  },
  {
   "cell_type": "markdown",
   "id": "fad124cb",
   "metadata": {},
   "source": [
    "<details>\n",
    "<summary><b>Solution</b></summary>\n",
    "\n",
    "```python\n",
    "km = 5.0\n",
    "miles = round(km * 0.621371, 2)\n",
    "print(miles)\n",
    "```\n",
    "</details>"
   ]
  },
  {
   "cell_type": "markdown",
   "id": "2e50e972",
   "metadata": {},
   "source": [
    "### Exercise A5 — Safe input (hard)\n",
    "Keep asking for an integer until the user provides a valid one (use try/except)."
   ]
  },
  {
   "cell_type": "code",
   "execution_count": 22,
   "id": "933f5994",
   "metadata": {},
   "outputs": [
    {
     "name": "stdin",
     "output_type": "stream",
     "text": [
      "Enter an integer value: 5.6\n"
     ]
    },
    {
     "name": "stdout",
     "output_type": "stream",
     "text": [
      "This is not an integer value. Please try again.\n"
     ]
    },
    {
     "name": "stdin",
     "output_type": "stream",
     "text": [
      "Enter an integer value: 4\n"
     ]
    },
    {
     "name": "stdout",
     "output_type": "stream",
     "text": [
      "Thank you\n"
     ]
    }
   ],
   "source": [
    "# Your turn\n",
    "error_flag = True\n",
    "while error_flag == True:\n",
    "    try:\n",
    "        input_value = int( input( \"Enter an integer value:\" ) )\n",
    "        print( \"Thank you\" )\n",
    "        error_flag = False\n",
    "    except:\n",
    "        print( \"This is not an integer value. Please try again.\" )"
   ]
  },
  {
   "cell_type": "markdown",
   "id": "79cf8cd1",
   "metadata": {},
   "source": [
    "<details>\n",
    "<summary><b>Solution</b></summary>\n",
    "\n",
    "```python\n",
    "while True:\n",
    "    s = \"42\"\n",
    "    try:\n",
    "        val = int(s)\n",
    "        break\n",
    "    except ValueError:\n",
    "        pass\n",
    "print(val)\n",
    "```\n",
    "</details>"
   ]
  }
 ],
 "metadata": {
  "kernelspec": {
   "display_name": "Python 3 (ipykernel)",
   "language": "python",
   "name": "python3"
  },
  "language_info": {
   "codemirror_mode": {
    "name": "ipython",
    "version": 3
   },
   "file_extension": ".py",
   "mimetype": "text/x-python",
   "name": "python",
   "nbconvert_exporter": "python",
   "pygments_lexer": "ipython3",
   "version": "3.12.7"
  },
  "toc": {
   "base_numbering": 1,
   "nav_menu": {},
   "number_sections": false,
   "sideBar": true,
   "skip_h1_title": false,
   "title_cell": "Table of Contents",
   "title_sidebar": "Contents",
   "toc_cell": false,
   "toc_position": {},
   "toc_section_display": true,
   "toc_window_display": true
  }
 },
 "nbformat": 4,
 "nbformat_minor": 5
}
